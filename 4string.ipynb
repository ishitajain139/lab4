{
 "cells": [
  {
   "cell_type": "code",
   "execution_count": 1,
   "metadata": {},
   "outputs": [
    {
     "name": "stdout",
     "output_type": "stream",
     "text": [
      "Please enter text to print::\n",
      "result\n",
      "-------------------\n",
      "You Entered: result\n",
      "Result:\n",
      "rsl\n"
     ]
    }
   ],
   "source": [
    "print(\"Please enter text to print::\")\n",
    "inputchars = input()\n",
    "\n",
    "if inputchars:\n",
    "    string = \"\"\n",
    "    for i in inputchars:\n",
    "        if inputchars.index(i)%2 == 0:\n",
    "            string += str(i)\n",
    "\n",
    "    print('-------------------')\n",
    "    print(\"You Entered:\", inputchars)\n",
    "    print(\"Result:\")\n",
    "    print(string)"
   ]
  },
  {
   "cell_type": "code",
   "execution_count": null,
   "metadata": {},
   "outputs": [],
   "source": []
  }
 ],
 "metadata": {
  "kernelspec": {
   "display_name": "Python 3",
   "language": "python",
   "name": "python3"
  },
  "language_info": {
   "codemirror_mode": {
    "name": "ipython",
    "version": 3
   },
   "file_extension": ".py",
   "mimetype": "text/x-python",
   "name": "python",
   "nbconvert_exporter": "python",
   "pygments_lexer": "ipython3",
   "version": "3.8.3"
  }
 },
 "nbformat": 4,
 "nbformat_minor": 4
}
